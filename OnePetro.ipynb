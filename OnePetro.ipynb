{
 "cells": [
  {
   "cell_type": "code",
   "execution_count": 39,
   "metadata": {
    "scrolled": true
   },
   "outputs": [],
   "source": [
    "import requests\n",
    "from bs4 import BeautifulSoup\n",
    "import pandas as pd\n",
    "\n",
    "#url = 'https://onepetro.org/search-results?fl_SiteID=1&qb=%7b%22Title1%22%3a%22hydrogen%22%7d&page=1'\n",
    "#'''\n",
    "url_list = []\n",
    "for i in range(1, 41):\n",
    "    url = f'https://onepetro.org/search-results?fl_SiteID=1&qb=%7b%22Title1%22%3a%22hydrogen%22%7d&page={i}'\n",
    "    url_list.append(url)\n",
    "url_list\n",
    "#'''\n",
    "\n",
    "headers = {'User-Agent': 'Mozilla/5.0 (Windows NT 10.0; Win64; x64) AppleWebKit/537.36 (KHTML, like Gecko) Chrome/91.0.4472.77 Safari/537.36'}\n",
    "data = []\n",
    "for url in url_list:\n",
    "    page = requests.get(url, headers=headers)\n",
    "    data.append(page.text)\n",
    "\n",
    "#soup = BeautifulSoup(page.content, 'html.parser')\n",
    "#print(soup.prettify())\n",
    "\n",
    "s = ''.join(data)\n",
    "with open('data\\\\raw_data.html', mode='w', encoding='UTF-8', errors='strict', buffering=1) as f:\n",
    "    f.write(s)"
   ]
  },
  {
   "cell_type": "code",
   "execution_count": 2,
   "metadata": {
    "scrolled": true
   },
   "outputs": [],
   "source": [
    "import requests\n",
    "from bs4 import BeautifulSoup\n",
    "import pandas as pd\n",
    "\n",
    "with open(\"data\\\\raw_data.html\", encoding='UTF-8', errors='strict') as f:\n",
    "    soup = BeautifulSoup(f)"
   ]
  },
  {
   "cell_type": "code",
   "execution_count": null,
   "metadata": {
    "scrolled": true
   },
   "outputs": [],
   "source": []
  },
  {
   "cell_type": "code",
   "execution_count": null,
   "metadata": {},
   "outputs": [],
   "source": []
  },
  {
   "cell_type": "code",
   "execution_count": 101,
   "metadata": {},
   "outputs": [],
   "source": [
    "paper_list = []\n",
    "#paper = soup.find('div', {'class': 'item-container'})\n",
    "for paper in soup.find_all('div', {'class': 'item-container'}):\n",
    "    title = paper.find('h4').text.strip()\n",
    "    \n",
    "    authors = paper.find('div', {'class': 'sri-authors al-authors-list'}).text\n",
    "    authors = authors.split(',')\n",
    "    authors = [x.strip() for x in authors]\n",
    "\n",
    "    doi = paper.find('div', {'class': 'ww-citation-wrap-doi'}).text\n",
    "    doi = doi.split(':')[1].strip()\n",
    "\n",
    "    try:\n",
    "        publisher = paper.find('div', {'class': 'sri-publisher-name'}).text\n",
    "    except:\n",
    "        publisher = paper.find('div', {'class': None}).text\n",
    "    publisher = publisher.split(':')[1].strip()\n",
    "\n",
    "    try:\n",
    "        date = paper.find('div', {'class': 'al-citation-list'}).text.split(',')\n",
    "        date = (date[-2] + date[-1]).strip()\n",
    "        chars = list(date.split(' ')[1])\n",
    "        if len(chars) == 3:\n",
    "            day = chars[0]\n",
    "        if len(chars) == 5:\n",
    "            day = chars[0] + chars[1]\n",
    "        year = date.split(' ')[-1]\n",
    "        month = date.split(' ')[0]\n",
    "        date = ' '.join([day, month, year])\n",
    "    except:\n",
    "        date = paper.find('div', {'class': 'sri-date al-pub-date'}).text.split(':')\n",
    "        date = date[1].strip()\n",
    "\n",
    "    abstract = paper.find('div', {'class': 'abstract-response-placeholder hide'}).text\n",
    "    \n",
    "    paper_list.append((title, authors, doi, publisher, date, abstract))\n",
    " "
   ]
  },
  {
   "cell_type": "code",
   "execution_count": 153,
   "metadata": {
    "scrolled": false
   },
   "outputs": [
    {
     "data": {
      "text/html": [
       "<div>\n",
       "<style scoped>\n",
       "    .dataframe tbody tr th:only-of-type {\n",
       "        vertical-align: middle;\n",
       "    }\n",
       "\n",
       "    .dataframe tbody tr th {\n",
       "        vertical-align: top;\n",
       "    }\n",
       "\n",
       "    .dataframe thead th {\n",
       "        text-align: right;\n",
       "    }\n",
       "</style>\n",
       "<table border=\"1\" class=\"dataframe\">\n",
       "  <thead>\n",
       "    <tr style=\"text-align: right;\">\n",
       "      <th></th>\n",
       "      <th>title</th>\n",
       "      <th>authors</th>\n",
       "      <th>doi</th>\n",
       "      <th>publisher</th>\n",
       "      <th>date</th>\n",
       "      <th>abstract</th>\n",
       "    </tr>\n",
       "  </thead>\n",
       "  <tbody>\n",
       "    <tr>\n",
       "      <th>0</th>\n",
       "      <td>A Blowout Accident Causative Model of Hydrogen...</td>\n",
       "      <td>[C. Han, Z. Guan, Y. Xu, H. Hu, D. Wu]</td>\n",
       "      <td>SPE-201032-MS</td>\n",
       "      <td>Society of Petroleum Engineers (SPE)</td>\n",
       "      <td>2021-06-08</td>\n",
       "      <td>Blowout is one of the most serious accidents i...</td>\n",
       "    </tr>\n",
       "    <tr>\n",
       "      <th>1</th>\n",
       "      <td>Transporting Hydrogen-Natural Gas Mixtures</td>\n",
       "      <td>[R. Kurz, M. Lubomirsky, R. Zamotorin]</td>\n",
       "      <td>PSIG-2110</td>\n",
       "      <td>Pipeline Simulation Interest Group</td>\n",
       "      <td>2021-05-03</td>\n",
       "      <td>Abstract Both in Europe and in North America, ...</td>\n",
       "    </tr>\n",
       "    <tr>\n",
       "      <th>2</th>\n",
       "      <td>A Fracture Mechanics Approach to Characterizin...</td>\n",
       "      <td>[H. Amaya, B. Fahimi, R. Thodla]</td>\n",
       "      <td>NACE-2021-16798</td>\n",
       "      <td>NACE International</td>\n",
       "      <td>2021-04-19</td>\n",
       "      <td>Abstract This paper elaborates on a method pre...</td>\n",
       "    </tr>\n",
       "    <tr>\n",
       "      <th>3</th>\n",
       "      <td>Insights into Hydrogen Embrittlement (HE) Susc...</td>\n",
       "      <td>[T. Das, J. Song, S. Brahimi, S. Yue]</td>\n",
       "      <td>NACE-2021-16887</td>\n",
       "      <td>NACE International</td>\n",
       "      <td>2021-04-19</td>\n",
       "      <td>Abstract Microstructure and strength affect hy...</td>\n",
       "    </tr>\n",
       "    <tr>\n",
       "      <th>4</th>\n",
       "      <td>The Influence of Stress Concentration and Plas...</td>\n",
       "      <td>[D. Griffiths, K. Sotoudeh, M. Dodge, M. Gittos]</td>\n",
       "      <td>NACE-2021-16644</td>\n",
       "      <td>NACE International</td>\n",
       "      <td>2021-04-19</td>\n",
       "      <td>Abstract Precipitation-hardened nickel alloys ...</td>\n",
       "    </tr>\n",
       "    <tr>\n",
       "      <th>...</th>\n",
       "      <td>...</td>\n",
       "      <td>...</td>\n",
       "      <td>...</td>\n",
       "      <td>...</td>\n",
       "      <td>...</td>\n",
       "      <td>...</td>\n",
       "    </tr>\n",
       "    <tr>\n",
       "      <th>785</th>\n",
       "      <td>Results of Hydrogenation Research Work in the ...</td>\n",
       "      <td>[H. Waterman]</td>\n",
       "      <td>WPC-154</td>\n",
       "      <td>World Petroleum Congress</td>\n",
       "      <td>1933-07-18</td>\n",
       "      <td>SUMMARY HYDROGENATION processes are often comb...</td>\n",
       "    </tr>\n",
       "    <tr>\n",
       "      <th>786</th>\n",
       "      <td>Properties of Hydrogenated Motor Oils.</td>\n",
       "      <td>[R. Haslam, R. Russell, W. Asbury]</td>\n",
       "      <td>WPC-151</td>\n",
       "      <td>World Petroleum Congress</td>\n",
       "      <td>1933-07-18</td>\n",
       "      <td>INTRODUCTION Tim history of the development of...</td>\n",
       "    </tr>\n",
       "    <tr>\n",
       "      <th>787</th>\n",
       "      <td>Comparison of Cracking and Hydrogenation as Me...</td>\n",
       "      <td>[R. Haslam, R. Russell, W. Asbury]</td>\n",
       "      <td>WPC-152</td>\n",
       "      <td>World Petroleum Congress</td>\n",
       "      <td>1933-07-18</td>\n",
       "      <td>INTRODUCTION THE general applicability of the ...</td>\n",
       "    </tr>\n",
       "    <tr>\n",
       "      <th>788</th>\n",
       "      <td>An Historical Account of Hydrogenation.</td>\n",
       "      <td>[F. Bergius]</td>\n",
       "      <td>WPC-148</td>\n",
       "      <td>World Petroleum Congress</td>\n",
       "      <td>1933-07-18</td>\n",
       "      <td>TaF, research and technical work on hydrogenat...</td>\n",
       "    </tr>\n",
       "    <tr>\n",
       "      <th>789</th>\n",
       "      <td>The Hydrogenation of Bituminous Coal.</td>\n",
       "      <td>[K. Gordon]</td>\n",
       "      <td>WPC-153</td>\n",
       "      <td>World Petroleum Congress</td>\n",
       "      <td>1933-07-18</td>\n",
       "      <td>SUMMARY IN a brief discussion of the constitut...</td>\n",
       "    </tr>\n",
       "  </tbody>\n",
       "</table>\n",
       "<p>790 rows × 6 columns</p>\n",
       "</div>"
      ],
      "text/plain": [
       "                                                 title  \\\n",
       "0    A Blowout Accident Causative Model of Hydrogen...   \n",
       "1           Transporting Hydrogen-Natural Gas Mixtures   \n",
       "2    A Fracture Mechanics Approach to Characterizin...   \n",
       "3    Insights into Hydrogen Embrittlement (HE) Susc...   \n",
       "4    The Influence of Stress Concentration and Plas...   \n",
       "..                                                 ...   \n",
       "785  Results of Hydrogenation Research Work in the ...   \n",
       "786             Properties of Hydrogenated Motor Oils.   \n",
       "787  Comparison of Cracking and Hydrogenation as Me...   \n",
       "788            An Historical Account of Hydrogenation.   \n",
       "789              The Hydrogenation of Bituminous Coal.   \n",
       "\n",
       "                                              authors              doi  \\\n",
       "0              [C. Han, Z. Guan, Y. Xu, H. Hu, D. Wu]    SPE-201032-MS   \n",
       "1              [R. Kurz, M. Lubomirsky, R. Zamotorin]        PSIG-2110   \n",
       "2                    [H. Amaya, B. Fahimi, R. Thodla]  NACE-2021-16798   \n",
       "3               [T. Das, J. Song, S. Brahimi, S. Yue]  NACE-2021-16887   \n",
       "4    [D. Griffiths, K. Sotoudeh, M. Dodge, M. Gittos]  NACE-2021-16644   \n",
       "..                                                ...              ...   \n",
       "785                                     [H. Waterman]          WPC-154   \n",
       "786                [R. Haslam, R. Russell, W. Asbury]          WPC-151   \n",
       "787                [R. Haslam, R. Russell, W. Asbury]          WPC-152   \n",
       "788                                      [F. Bergius]          WPC-148   \n",
       "789                                       [K. Gordon]          WPC-153   \n",
       "\n",
       "                                publisher       date  \\\n",
       "0    Society of Petroleum Engineers (SPE) 2021-06-08   \n",
       "1      Pipeline Simulation Interest Group 2021-05-03   \n",
       "2                      NACE International 2021-04-19   \n",
       "3                      NACE International 2021-04-19   \n",
       "4                      NACE International 2021-04-19   \n",
       "..                                    ...        ...   \n",
       "785              World Petroleum Congress 1933-07-18   \n",
       "786              World Petroleum Congress 1933-07-18   \n",
       "787              World Petroleum Congress 1933-07-18   \n",
       "788              World Petroleum Congress 1933-07-18   \n",
       "789              World Petroleum Congress 1933-07-18   \n",
       "\n",
       "                                              abstract  \n",
       "0    Blowout is one of the most serious accidents i...  \n",
       "1    Abstract Both in Europe and in North America, ...  \n",
       "2    Abstract This paper elaborates on a method pre...  \n",
       "3    Abstract Microstructure and strength affect hy...  \n",
       "4    Abstract Precipitation-hardened nickel alloys ...  \n",
       "..                                                 ...  \n",
       "785  SUMMARY HYDROGENATION processes are often comb...  \n",
       "786  INTRODUCTION Tim history of the development of...  \n",
       "787  INTRODUCTION THE general applicability of the ...  \n",
       "788  TaF, research and technical work on hydrogenat...  \n",
       "789  SUMMARY IN a brief discussion of the constitut...  \n",
       "\n",
       "[790 rows x 6 columns]"
      ]
     },
     "execution_count": 153,
     "metadata": {},
     "output_type": "execute_result"
    }
   ],
   "source": [
    "df = pd.DataFrame(paper_list)\n",
    "df.columns = ['title', 'authors', 'doi', 'publisher', 'date','abstract']\n",
    "df['date'] = pd.to_datetime(df['date'])\n",
    "def test(authors):\n",
    "    short_names = []\n",
    "    for author in authors:\n",
    "        author = author[0] + '. ' + author.split(' ')[-1]\n",
    "        short_names.append(author)\n",
    "    return short_names\n",
    "\n",
    "df['authors'] = df['authors'].apply(test)\n",
    "df"
   ]
  },
  {
   "cell_type": "code",
   "execution_count": null,
   "metadata": {},
   "outputs": [],
   "source": []
  },
  {
   "cell_type": "code",
   "execution_count": null,
   "metadata": {},
   "outputs": [],
   "source": []
  },
  {
   "cell_type": "code",
   "execution_count": 154,
   "metadata": {
    "scrolled": false
   },
   "outputs": [
    {
     "data": {
      "text/plain": [
       "[<matplotlib.lines.Line2D at 0x1c48e4ba910>]"
      ]
     },
     "execution_count": 154,
     "metadata": {},
     "output_type": "execute_result"
    }
   ],
   "source": [
    "%matplotlib qt\n",
    "import matplotlib.pyplot as plt\n",
    "plt.ion()\n",
    "fig = plt.figure(figsize=(14, 8))\n",
    "ax = fig.add_subplot(111)\n",
    "\n",
    "plt.title('Pupblikationen über Wasserstoff pro Jahr')\n",
    "plt.plot(df['date'].dt.year.value_counts().sort_index())"
   ]
  },
  {
   "cell_type": "code",
   "execution_count": 155,
   "metadata": {
    "scrolled": false
   },
   "outputs": [
    {
     "data": {
      "text/plain": [
       "NACE International                                               453\n",
       "Society of Petroleum Engineers (SPE)                             152\n",
       "World Petroleum Congress                                          76\n",
       "International Society of Offshore and Polar Engineers             51\n",
       "Offshore Technology Conference                                    22\n",
       "Petroleum Society of Canada                                       10\n",
       "International Petroleum Technology Conference                      8\n",
       "Oil Industry Journal                                               5\n",
       "American Society of Safety Professionals                           4\n",
       "Society of Petrophysicists and Well-Log Analysts                   2\n",
       "International Society for Rock Mechanics and Rock Engineering      2\n",
       "Society of Exploration Geophysicists                               1\n",
       "Pipeline Simulation Interest Group                                 1\n",
       "Society of Naval Architects and Marine Engineers                   1\n",
       "Society of Underwater Technology                                   1\n",
       "American Rock Mechanics Association                                1\n",
       "Name: publisher, dtype: int64"
      ]
     },
     "execution_count": 155,
     "metadata": {},
     "output_type": "execute_result"
    }
   ],
   "source": [
    "df['publisher'].value_counts()"
   ]
  },
  {
   "cell_type": "code",
   "execution_count": 156,
   "metadata": {
    "scrolled": false
   },
   "outputs": [
    {
     "data": {
      "text/plain": [
       "F. Dean          15\n",
       "K. Kim           13\n",
       "L. Qiao          11\n",
       "J. Jr.           11\n",
       "R. Johnsen        9\n",
       "                 ..\n",
       "B. Kumar          1\n",
       "J. Johnson        1\n",
       "M. Lubomirsky     1\n",
       "J. Shick          1\n",
       "Z. Yonglan        1\n",
       "Length: 1814, dtype: int64"
      ]
     },
     "execution_count": 156,
     "metadata": {},
     "output_type": "execute_result"
    }
   ],
   "source": [
    "from  itertools import chain\n",
    "from collections import Counter\n",
    "\n",
    "s = pd.Series(list(chain.from_iterable(df['authors'])))\n",
    "s.str.strip().value_counts()"
   ]
  },
  {
   "cell_type": "code",
   "execution_count": 169,
   "metadata": {
    "scrolled": false
   },
   "outputs": [
    {
     "data": {
      "text/plain": [
       "['Multipoint Flux Monitoring by the Hydrogen Collection Method Using a New Wide Temperature Range Flux Measurement Probe',\n",
       " 'Hydrogen Cracking Behavior of Legacy Carbon Steels',\n",
       " 'Detection And Monitoring Of Naphthenic Acid Corrosion In A Visbreaker Unit Using Hydrogen Flux Measurements',\n",
       " 'A Review Of Hydrogen Flux Promoters',\n",
       " 'Correlation Of Hydrogen Flux And Corrosion Rate Measurements Carried Out During A Severe Episode Of Corrosion-Erosion Attributable',\n",
       " 'Hydrogen Flux And Corrosion Rate Measurements On Hydrogen Induced Cracking Susceptible And Resistant A516 Steels In Various Sour Environments',\n",
       " 'The Effect Of Pressure On Hydrogen Charging Of Carbon Steel Under Cathodic Protection',\n",
       " 'Hydrogen Flux and High Temperature Acid Corrosion',\n",
       " 'Practical Applications of Hydrogen Permeation Monitoring',\n",
       " 'Examples of Use and Interpretation of Field Data Using a Portable Hydrogen Permeation Monitor',\n",
       " 'Applications of Hydrogen Flux Monitoring to Pre-weld Bakeouts of Steel',\n",
       " 'A Laboratory Study of Types of Corrosion Inducing Hydrogen Permeation through Steel',\n",
       " 'Corrosion Trends as Discerned by the Hydrogen Collection Method',\n",
       " 'Hydrogen Permeation Flux Data Correlation with In-Line Corrosion Monitoring Techniques Mapped over Location and Time',\n",
       " 'Field Application of New, Portable, Non-Intrusive Hydrogen Monitor for Sour Service']"
      ]
     },
     "execution_count": 169,
     "metadata": {},
     "output_type": "execute_result"
    }
   ],
   "source": [
    "pd.set_option('display.max_rows', 500)\n",
    "\n",
    "df[df['authors'].apply(lambda x: 'F. Dean' in x)]['title'].to_list()"
   ]
  },
  {
   "cell_type": "code",
   "execution_count": 164,
   "metadata": {
    "scrolled": false
   },
   "outputs": [
    {
     "data": {
      "text/plain": [
       "['Development of a Supporting Tool for the Evaluation of Storage Capacity of Caverns for Renewable Energies – Rock Mechanical Design for Hydrogen Storage Caverns',\n",
       " 'The H2STORE Project - Experimental and Numerical Simulation Approach to Investigate Processes in Underground Hydrogen Reservoir Storage']"
      ]
     },
     "execution_count": 164,
     "metadata": {},
     "output_type": "execute_result"
    }
   ],
   "source": [
    "df_storage = df[df['abstract'].str.contains('cavern')]\n",
    "df_storage['title'].to_list()"
   ]
  },
  {
   "cell_type": "code",
   "execution_count": null,
   "metadata": {},
   "outputs": [],
   "source": []
  },
  {
   "cell_type": "code",
   "execution_count": null,
   "metadata": {},
   "outputs": [],
   "source": []
  },
  {
   "cell_type": "code",
   "execution_count": null,
   "metadata": {},
   "outputs": [],
   "source": []
  },
  {
   "cell_type": "code",
   "execution_count": null,
   "metadata": {
    "scrolled": false
   },
   "outputs": [],
   "source": []
  },
  {
   "cell_type": "code",
   "execution_count": null,
   "metadata": {},
   "outputs": [],
   "source": []
  },
  {
   "cell_type": "code",
   "execution_count": null,
   "metadata": {},
   "outputs": [],
   "source": []
  }
 ],
 "metadata": {
  "kernelspec": {
   "display_name": "Python 3",
   "language": "python",
   "name": "python3"
  },
  "language_info": {
   "codemirror_mode": {
    "name": "ipython",
    "version": 3
   },
   "file_extension": ".py",
   "mimetype": "text/x-python",
   "name": "python",
   "nbconvert_exporter": "python",
   "pygments_lexer": "ipython3",
   "version": "3.7.7"
  }
 },
 "nbformat": 4,
 "nbformat_minor": 5
}
